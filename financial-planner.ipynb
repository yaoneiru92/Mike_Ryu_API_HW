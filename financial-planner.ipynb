{
 "cells": [
  {
   "cell_type": "markdown",
   "metadata": {},
   "source": [
    "# Unit 5 - Financial Planning\n"
   ]
  },
  {
   "cell_type": "code",
   "execution_count": 1,
   "metadata": {},
   "outputs": [
    {
     "name": "stdout",
     "output_type": "stream",
     "text": [
      "Requirement already satisfied: alpaca-trade-api in c:\\users\\yaone\\anaconda3\\envs\\dev\\lib\\site-packages (0.52.0)\n",
      "Requirement already satisfied: requests<3,>2 in c:\\users\\yaone\\anaconda3\\envs\\dev\\lib\\site-packages (from alpaca-trade-api) (2.24.0)\n",
      "Requirement already satisfied: numpy in c:\\users\\yaone\\anaconda3\\envs\\dev\\lib\\site-packages (from alpaca-trade-api) (1.17.0)\n",
      "Requirement already satisfied: websocket-client<1,>=0.56.0 in c:\\users\\yaone\\anaconda3\\envs\\dev\\lib\\site-packages (from alpaca-trade-api) (0.57.0)\n",
      "Requirement already satisfied: pandas in c:\\users\\yaone\\anaconda3\\envs\\dev\\lib\\site-packages (from alpaca-trade-api) (1.1.3)\n",
      "Requirement already satisfied: websockets<9,>=8.0 in c:\\users\\yaone\\anaconda3\\envs\\dev\\lib\\site-packages (from alpaca-trade-api) (8.1)\n",
      "Requirement already satisfied: urllib3<2,>1.24 in c:\\users\\yaone\\anaconda3\\envs\\dev\\lib\\site-packages (from alpaca-trade-api) (1.25.11)\n",
      "Requirement already satisfied: certifi>=2017.4.17 in c:\\users\\yaone\\anaconda3\\envs\\dev\\lib\\site-packages (from requests<3,>2->alpaca-trade-api) (2020.6.20)\n",
      "Requirement already satisfied: idna<3,>=2.5 in c:\\users\\yaone\\anaconda3\\envs\\dev\\lib\\site-packages (from requests<3,>2->alpaca-trade-api) (2.10)\n",
      "Requirement already satisfied: chardet<4,>=3.0.2 in c:\\users\\yaone\\anaconda3\\envs\\dev\\lib\\site-packages (from requests<3,>2->alpaca-trade-api) (3.0.4)\n",
      "Requirement already satisfied: six in c:\\users\\yaone\\anaconda3\\envs\\dev\\lib\\site-packages (from websocket-client<1,>=0.56.0->alpaca-trade-api) (1.15.0)\n",
      "Requirement already satisfied: pytz>=2017.2 in c:\\users\\yaone\\anaconda3\\envs\\dev\\lib\\site-packages (from pandas->alpaca-trade-api) (2020.1)\n",
      "Requirement already satisfied: python-dateutil>=2.7.3 in c:\\users\\yaone\\anaconda3\\envs\\dev\\lib\\site-packages (from pandas->alpaca-trade-api) (2.8.1)\n"
     ]
    }
   ],
   "source": [
    "# Initial imports\n",
    "!pip install alpaca-trade-api\n",
    "\n",
    "import os\n",
    "import requests\n",
    "import pandas as pd\n",
    "from dotenv import load_dotenv\n",
    "import alpaca_trade_api as tradeapi\n",
    "from MCForecastTools import MCSimulation\n",
    "\n",
    "%matplotlib inline"
   ]
  },
  {
   "cell_type": "code",
   "execution_count": 2,
   "metadata": {},
   "outputs": [
    {
     "data": {
      "text/plain": [
       "True"
      ]
     },
     "execution_count": 2,
     "metadata": {},
     "output_type": "execute_result"
    }
   ],
   "source": [
    "# Load .env enviroment variables\n",
    "load_dotenv()"
   ]
  },
  {
   "cell_type": "markdown",
   "metadata": {},
   "source": [
    "## Part 1 - Personal Finance Planner"
   ]
  },
  {
   "cell_type": "markdown",
   "metadata": {},
   "source": [
    "### Collect Crypto Prices Using the `requests` Library"
   ]
  },
  {
   "cell_type": "code",
   "execution_count": 3,
   "metadata": {},
   "outputs": [],
   "source": [
    "# Set current amount of crypto assets\n",
    "BTC = 1.2\n",
    "ETH = 5.3\n"
   ]
  },
  {
   "cell_type": "code",
   "execution_count": 4,
   "metadata": {},
   "outputs": [],
   "source": [
    "# Crypto API URLs\n",
    "btc_url = \"https://api.alternative.me/v2/ticker/Bitcoin/?convert=CAD\"\n",
    "eth_url = \"https://api.alternative.me/v2/ticker/Ethereum/?convert=CAD\"\n",
    "\n",
    "url_BTC = btc_url + \"?format=json\"\n",
    "url_ETH = eth_url + \"?format=json\"\n",
    "\n",
    "requests.get(url_BTC)\n",
    "requests.get(url_ETH)\n",
    "\n",
    "BTC_response_data = requests.get(url_BTC)\n",
    "ETH_response_data = requests.get(url_ETH)\n",
    "\n",
    "BTC_response_content = BTC_response_data.content\n",
    "ETH_response_content = ETH_response_data.content\n",
    "\n",
    "import json\n",
    "\n",
    "BTC_data = BTC_response_data.json()\n",
    "ETH_data = ETH_response_data.json()"
   ]
  },
  {
   "cell_type": "code",
   "execution_count": 5,
   "metadata": {},
   "outputs": [
    {
     "name": "stdout",
     "output_type": "stream",
     "text": [
      "The current value of your 1.2 BTC is $52566.00\n",
      "The current value of your 5.3 ETH is $7187.17\n"
     ]
    }
   ],
   "source": [
    "# Fetch current BTC price\n",
    "btc_price = BTC_data['data']['1']['quotes']['USD']['price']\n",
    "\n",
    "# Fetch current ETH price\n",
    "eth_price = ETH_data['data']['1027']['quotes']['USD']['price']\n",
    "\n",
    "# Compute current value of my crpto\n",
    "total_btc_value = BTC * btc_price\n",
    "total_eth_value = ETH * eth_price\n",
    "\n",
    "# Print current crypto wallet balance\n",
    "print(f\"The current value of your {BTC} BTC is ${total_btc_value:0.2f}\")\n",
    "print(f\"The current value of your {ETH} ETH is ${total_eth_value:0.2f}\")"
   ]
  },
  {
   "cell_type": "markdown",
   "metadata": {},
   "source": [
    "### Collect Investments Data Using Alpaca: `SPY` (stocks) and `AGG` (bonds)"
   ]
  },
  {
   "cell_type": "code",
   "execution_count": 6,
   "metadata": {},
   "outputs": [],
   "source": [
    "# Current amount of shares\n",
    "SPY = 50\n",
    "AGG = 200"
   ]
  },
  {
   "cell_type": "code",
   "execution_count": 7,
   "metadata": {},
   "outputs": [
    {
     "data": {
      "text/plain": [
       "<alpaca_trade_api.rest.REST at 0x1d0df8da9c8>"
      ]
     },
     "execution_count": 7,
     "metadata": {},
     "output_type": "execute_result"
    }
   ],
   "source": [
    "# Set Alpaca API key and secret\n",
    "\n",
    "import os\n",
    "from dotenv import load_dotenv ## We need this library to load the .env file\n",
    "from pathlib import Path\n",
    "\n",
    "\n",
    "### This loads the .env file to memory that is in a different folder as our notebook\n",
    "#rel_path = Path(\"../Unsolved/.env\") ## the two dots mean 'go up one step from the current directory'\n",
    "abs_path = Path(r'C:\\Users\\yaone\\OneDrive\\Documents\\.env')\n",
    "load_dotenv(abs_path) \n",
    "\n",
    "alpaca_api_key = os.getenv('alpaca_api_key')\n",
    "\n",
    "\n",
    "alpaca_secret_key = os.getenv(\"alpaca_secret_key\")\n",
    "\n",
    "base_url = 'https://paper-api.alpaca.markets'\n",
    "\n",
    "# Create the Alpaca API object\n",
    "alpaca = tradeapi.REST(\n",
    "    alpaca_api_key,\n",
    "    alpaca_secret_key,\n",
    "    base_url,\n",
    "    api_version = \"V2\")\n",
    "alpaca"
   ]
  },
  {
   "cell_type": "code",
   "execution_count": 8,
   "metadata": {},
   "outputs": [
    {
     "data": {
      "text/html": [
       "<div>\n",
       "<style scoped>\n",
       "    .dataframe tbody tr th:only-of-type {\n",
       "        vertical-align: middle;\n",
       "    }\n",
       "\n",
       "    .dataframe tbody tr th {\n",
       "        vertical-align: top;\n",
       "    }\n",
       "\n",
       "    .dataframe thead th {\n",
       "        text-align: right;\n",
       "    }\n",
       "</style>\n",
       "<table border=\"1\" class=\"dataframe\">\n",
       "  <thead>\n",
       "    <tr style=\"text-align: right;\">\n",
       "      <th></th>\n",
       "      <th>AGG</th>\n",
       "      <th>SPY</th>\n",
       "    </tr>\n",
       "  </thead>\n",
       "  <tbody>\n",
       "    <tr>\n",
       "      <th>2021-02-17</th>\n",
       "      <td>116.28</td>\n",
       "      <td>392.43</td>\n",
       "    </tr>\n",
       "  </tbody>\n",
       "</table>\n",
       "</div>"
      ],
      "text/plain": [
       "               AGG     SPY\n",
       "2021-02-17  116.28  392.43"
      ]
     },
     "execution_count": 8,
     "metadata": {},
     "output_type": "execute_result"
    }
   ],
   "source": [
    "# Format current date as ISO format\n",
    "today = pd.Timestamp(\"2021-02-17\", tz = \"America/New_York\").isoformat()\n",
    "today\n",
    "\n",
    "# Set the tickers\n",
    "tickers = [\"AGG\", \"SPY\"]\n",
    "\n",
    "# Set timeframe to '1D' for Alpaca API\n",
    "timeframe = \"1D\"\n",
    "\n",
    "df_portfolio = alpaca.get_barset(\n",
    "    tickers,\n",
    "    timeframe,\n",
    "    start = today,\n",
    "    end = today\n",
    ").df\n",
    "\n",
    "df_portfolio\n",
    "\n",
    "# Get current closing prices for SPY and AGG\n",
    "df_closing_prices = pd.DataFrame()\n",
    "\n",
    "df_closing_prices[\"AGG\"] = df_portfolio[\"AGG\"][\"close\"]\n",
    "df_closing_prices[\"SPY\"] = df_portfolio[\"SPY\"][\"close\"]\n",
    "\n",
    "\n",
    "# Preview DataFrame\n",
    "df_closing_prices.index = df_closing_prices.index.date\n",
    "\n",
    "df_closing_prices"
   ]
  },
  {
   "cell_type": "code",
   "execution_count": 9,
   "metadata": {},
   "outputs": [
    {
     "name": "stdout",
     "output_type": "stream",
     "text": [
      "Current AGG closing price: $116.28\n",
      "Current SPY closing price: $392.43\n"
     ]
    }
   ],
   "source": [
    "# Pick AGG and SPY close prices\n",
    "agg_close_price = 116.28\n",
    "spy_close_price = 392.43\n",
    "\n",
    "# Print AGG and SPY close prices\n",
    "print(f\"Current AGG closing price: ${agg_close_price}\")\n",
    "print(f\"Current SPY closing price: ${spy_close_price}\")"
   ]
  },
  {
   "cell_type": "code",
   "execution_count": 10,
   "metadata": {},
   "outputs": [
    {
     "name": "stdout",
     "output_type": "stream",
     "text": [
      "The current value of your 50 SPY shares is $19621.50\n",
      "The current value of your 200 AGG shares is $23256.00\n"
     ]
    }
   ],
   "source": [
    "# Compute the current value of shares\n",
    "my_spy_value = spy_close_price * SPY\n",
    "my_agg_value = agg_close_price * AGG\n",
    "\n",
    "# Print current value of share\n",
    "print(f\"The current value of your {SPY} SPY shares is ${my_spy_value:0.2f}\")\n",
    "print(f\"The current value of your {AGG} AGG shares is ${my_agg_value:0.2f}\")"
   ]
  },
  {
   "cell_type": "markdown",
   "metadata": {},
   "source": [
    "### Savings Health Analysis"
   ]
  },
  {
   "cell_type": "code",
   "execution_count": 11,
   "metadata": {},
   "outputs": [
    {
     "data": {
      "text/html": [
       "<div>\n",
       "<style scoped>\n",
       "    .dataframe tbody tr th:only-of-type {\n",
       "        vertical-align: middle;\n",
       "    }\n",
       "\n",
       "    .dataframe tbody tr th {\n",
       "        vertical-align: top;\n",
       "    }\n",
       "\n",
       "    .dataframe thead th {\n",
       "        text-align: right;\n",
       "    }\n",
       "</style>\n",
       "<table border=\"1\" class=\"dataframe\">\n",
       "  <thead>\n",
       "    <tr style=\"text-align: right;\">\n",
       "      <th></th>\n",
       "      <th>Amount</th>\n",
       "    </tr>\n",
       "  </thead>\n",
       "  <tbody>\n",
       "    <tr>\n",
       "      <th>Crypto</th>\n",
       "      <td>59753.171</td>\n",
       "    </tr>\n",
       "    <tr>\n",
       "      <th>Shares</th>\n",
       "      <td>42877.500</td>\n",
       "    </tr>\n",
       "  </tbody>\n",
       "</table>\n",
       "</div>"
      ],
      "text/plain": [
       "           Amount\n",
       "Crypto  59753.171\n",
       "Shares  42877.500"
      ]
     },
     "metadata": {},
     "output_type": "display_data"
    }
   ],
   "source": [
    "# Set monthly household income\n",
    "monthly_income = 12000\n",
    "crypto_value = total_btc_value + total_eth_value\n",
    "shares =  my_spy_value + my_agg_value\n",
    "\n",
    "# Create savings DataFrame\n",
    "value_data = {\n",
    "    \"Crypto\": [crypto_value],\n",
    "    \"Shares\": [shares]\n",
    "}\n",
    "\n",
    "df_savings = pd.DataFrame(value_data, index = [\"Amount\"]).T\n",
    "\n",
    "# Display savings DataFrame\n",
    "display(df_savings)"
   ]
  },
  {
   "cell_type": "code",
   "execution_count": 12,
   "metadata": {},
   "outputs": [
    {
     "data": {
      "text/plain": [
       "<AxesSubplot:title={'center':'Savings Portfolio'}, ylabel='Amount'>"
      ]
     },
     "execution_count": 12,
     "metadata": {},
     "output_type": "execute_result"
    },
    {
     "data": {
      "image/png": "[encoded data removed]",
      "text/plain": [
       "<Figure size 432x288 with 1 Axes>"
      ]
     },
     "metadata": {},
     "output_type": "display_data"
    }
   ],
   "source": [
    "# Plot savings pie chart\n",
    "df_savings.plot.pie(y = 'Amount', title = \"Savings Portfolio\")"
   ]
  },
  {
   "cell_type": "code",
   "execution_count": 13,
   "metadata": {},
   "outputs": [
    {
     "name": "stdout",
     "output_type": "stream",
     "text": [
      "Congratulations, you have more than 3x your monthly income in your emergency fund.\n"
     ]
    }
   ],
   "source": [
    "# Set ideal emergency fund\n",
    "emergency_fund = monthly_income * 3\n",
    "\n",
    "# Calculate total amount of savings\n",
    "total_savings = df_savings.sum()[0]\n",
    "\n",
    "# Validate saving health\n",
    "\n",
    "if total_savings > emergency_fund:\n",
    "    print(\"Congratulations, you have more than 3x your monthly income in your emergency fund.\")\n",
    "elif total_savings == emergency_fund:\n",
    "    print(\"Congratulations on reaching your goal of 3x your monthly income in your emergency fund.\")\n",
    "else:\n",
    "    print(f'You are ${emergency_fund - total_savings} away from reaching your goal of 3x your monthly income in your emergency fund.')\n",
    "    \n"
   ]
  },
  {
   "cell_type": "markdown",
   "metadata": {},
   "source": [
    "## Part 2 - Retirement Planning\n",
    "\n",
    "### Monte Carlo Simulation"
   ]
  },
  {
   "cell_type": "code",
   "execution_count": 14,
   "metadata": {},
   "outputs": [],
   "source": [
    "# Set start and end dates of five years back from today.\n",
    "# Sample results may vary from the solution based on the time frame chosen\n",
    "start_date = pd.Timestamp('2016-02-18', tz='America/New_York').isoformat()\n",
    "end_date = pd.Timestamp('2021-02-18', tz='America/New_York').isoformat()"
   ]
  },
  {
   "cell_type": "code",
   "execution_count": 15,
   "metadata": {},
   "outputs": [
    {
     "data": {
      "text/html": [
       "<div>\n",
       "<style scoped>\n",
       "    .dataframe tbody tr th:only-of-type {\n",
       "        vertical-align: middle;\n",
       "    }\n",
       "\n",
       "    .dataframe tbody tr th {\n",
       "        vertical-align: top;\n",
       "    }\n",
       "\n",
       "    .dataframe thead tr th {\n",
       "        text-align: left;\n",
       "    }\n",
       "\n",
       "    .dataframe thead tr:last-of-type th {\n",
       "        text-align: right;\n",
       "    }\n",
       "</style>\n",
       "<table border=\"1\" class=\"dataframe\">\n",
       "  <thead>\n",
       "    <tr>\n",
       "      <th></th>\n",
       "      <th colspan=\"5\" halign=\"left\">AGG</th>\n",
       "      <th colspan=\"5\" halign=\"left\">SPY</th>\n",
       "    </tr>\n",
       "    <tr>\n",
       "      <th></th>\n",
       "      <th>open</th>\n",
       "      <th>high</th>\n",
       "      <th>low</th>\n",
       "      <th>close</th>\n",
       "      <th>volume</th>\n",
       "      <th>open</th>\n",
       "      <th>high</th>\n",
       "      <th>low</th>\n",
       "      <th>close</th>\n",
       "      <th>volume</th>\n",
       "    </tr>\n",
       "    <tr>\n",
       "      <th>time</th>\n",
       "      <th></th>\n",
       "      <th></th>\n",
       "      <th></th>\n",
       "      <th></th>\n",
       "      <th></th>\n",
       "      <th></th>\n",
       "      <th></th>\n",
       "      <th></th>\n",
       "      <th></th>\n",
       "      <th></th>\n",
       "    </tr>\n",
       "  </thead>\n",
       "  <tbody>\n",
       "    <tr>\n",
       "      <th>2020-09-25 00:00:00-04:00</th>\n",
       "      <td>118.12</td>\n",
       "      <td>118.17</td>\n",
       "      <td>118.0500</td>\n",
       "      <td>118.13</td>\n",
       "      <td>4895506</td>\n",
       "      <td>322.58</td>\n",
       "      <td>329.58</td>\n",
       "      <td>321.6400</td>\n",
       "      <td>328.69</td>\n",
       "      <td>59224994</td>\n",
       "    </tr>\n",
       "    <tr>\n",
       "      <th>2020-09-28 00:00:00-04:00</th>\n",
       "      <td>118.18</td>\n",
       "      <td>118.22</td>\n",
       "      <td>118.1100</td>\n",
       "      <td>118.20</td>\n",
       "      <td>5318716</td>\n",
       "      <td>333.22</td>\n",
       "      <td>334.96</td>\n",
       "      <td>332.1500</td>\n",
       "      <td>334.20</td>\n",
       "      <td>55126711</td>\n",
       "    </tr>\n",
       "    <tr>\n",
       "      <th>2020-09-29 00:00:00-04:00</th>\n",
       "      <td>118.28</td>\n",
       "      <td>118.33</td>\n",
       "      <td>118.2100</td>\n",
       "      <td>118.23</td>\n",
       "      <td>3974292</td>\n",
       "      <td>333.97</td>\n",
       "      <td>334.77</td>\n",
       "      <td>331.6209</td>\n",
       "      <td>332.39</td>\n",
       "      <td>40380416</td>\n",
       "    </tr>\n",
       "    <tr>\n",
       "      <th>2020-09-30 00:00:00-04:00</th>\n",
       "      <td>118.26</td>\n",
       "      <td>118.26</td>\n",
       "      <td>117.9516</td>\n",
       "      <td>118.07</td>\n",
       "      <td>5314447</td>\n",
       "      <td>333.09</td>\n",
       "      <td>338.29</td>\n",
       "      <td>332.8800</td>\n",
       "      <td>334.89</td>\n",
       "      <td>78401575</td>\n",
       "    </tr>\n",
       "    <tr>\n",
       "      <th>2020-10-01 00:00:00-04:00</th>\n",
       "      <td>117.81</td>\n",
       "      <td>118.04</td>\n",
       "      <td>117.7500</td>\n",
       "      <td>117.99</td>\n",
       "      <td>9535086</td>\n",
       "      <td>337.69</td>\n",
       "      <td>338.74</td>\n",
       "      <td>335.0100</td>\n",
       "      <td>337.03</td>\n",
       "      <td>76998987</td>\n",
       "    </tr>\n",
       "  </tbody>\n",
       "</table>\n",
       "</div>"
      ],
      "text/plain": [
       "                              AGG                                        SPY  \\\n",
       "                             open    high       low   close   volume    open   \n",
       "time                                                                           \n",
       "2020-09-25 00:00:00-04:00  118.12  118.17  118.0500  118.13  4895506  322.58   \n",
       "2020-09-28 00:00:00-04:00  118.18  118.22  118.1100  118.20  5318716  333.22   \n",
       "2020-09-29 00:00:00-04:00  118.28  118.33  118.2100  118.23  3974292  333.97   \n",
       "2020-09-30 00:00:00-04:00  118.26  118.26  117.9516  118.07  5314447  333.09   \n",
       "2020-10-01 00:00:00-04:00  117.81  118.04  117.7500  117.99  9535086  337.69   \n",
       "\n",
       "                                                               \n",
       "                             high       low   close    volume  \n",
       "time                                                           \n",
       "2020-09-25 00:00:00-04:00  329.58  321.6400  328.69  59224994  \n",
       "2020-09-28 00:00:00-04:00  334.96  332.1500  334.20  55126711  \n",
       "2020-09-29 00:00:00-04:00  334.77  331.6209  332.39  40380416  \n",
       "2020-09-30 00:00:00-04:00  338.29  332.8800  334.89  78401575  \n",
       "2020-10-01 00:00:00-04:00  338.74  335.0100  337.03  76998987  "
      ]
     },
     "execution_count": 15,
     "metadata": {},
     "output_type": "execute_result"
    }
   ],
   "source": [
    "# Get 5 years' worth of historical data for SPY and AGG\n",
    "ticker = [\"SPY\", \"AGG\"]\n",
    "\n",
    "timeframe = \"1D\"\n",
    "\n",
    "df_stock_data = alpaca.get_barset(\n",
    "    ticker,\n",
    "    timeframe,\n",
    "    start = start_date,\n",
    "    end = end_date\n",
    ").df\n",
    "\n",
    "# Display sample data\n",
    "df_stock_data.head()"
   ]
  },
  {
   "cell_type": "code",
   "execution_count": 16,
   "metadata": {},
   "outputs": [],
   "source": [
    "# Configuring a Monte Carlo simulation to forecast 30 years cumulative returns\n",
    "MC_thirty_year = MCSimulation(\n",
    "    portfolio_data = df_stock_data,\n",
    "    weights = [.6,.4],\n",
    "    num_simulation = 500,\n",
    "    num_trading_days = 252 * 30\n",
    ")"
   ]
  },
  {
   "cell_type": "code",
   "execution_count": 17,
   "metadata": {},
   "outputs": [
    {
     "data": {
      "text/html": [
       "<div>\n",
       "<style scoped>\n",
       "    .dataframe tbody tr th:only-of-type {\n",
       "        vertical-align: middle;\n",
       "    }\n",
       "\n",
       "    .dataframe tbody tr th {\n",
       "        vertical-align: top;\n",
       "    }\n",
       "\n",
       "    .dataframe thead tr th {\n",
       "        text-align: left;\n",
       "    }\n",
       "\n",
       "    .dataframe thead tr:last-of-type th {\n",
       "        text-align: right;\n",
       "    }\n",
       "</style>\n",
       "<table border=\"1\" class=\"dataframe\">\n",
       "  <thead>\n",
       "    <tr>\n",
       "      <th></th>\n",
       "      <th colspan=\"6\" halign=\"left\">AGG</th>\n",
       "      <th colspan=\"6\" halign=\"left\">SPY</th>\n",
       "    </tr>\n",
       "    <tr>\n",
       "      <th></th>\n",
       "      <th>open</th>\n",
       "      <th>high</th>\n",
       "      <th>low</th>\n",
       "      <th>close</th>\n",
       "      <th>volume</th>\n",
       "      <th>daily_return</th>\n",
       "      <th>open</th>\n",
       "      <th>high</th>\n",
       "      <th>low</th>\n",
       "      <th>close</th>\n",
       "      <th>volume</th>\n",
       "      <th>daily_return</th>\n",
       "    </tr>\n",
       "    <tr>\n",
       "      <th>time</th>\n",
       "      <th></th>\n",
       "      <th></th>\n",
       "      <th></th>\n",
       "      <th></th>\n",
       "      <th></th>\n",
       "      <th></th>\n",
       "      <th></th>\n",
       "      <th></th>\n",
       "      <th></th>\n",
       "      <th></th>\n",
       "      <th></th>\n",
       "      <th></th>\n",
       "    </tr>\n",
       "  </thead>\n",
       "  <tbody>\n",
       "    <tr>\n",
       "      <th>2020-09-25 00:00:00-04:00</th>\n",
       "      <td>118.12</td>\n",
       "      <td>118.17</td>\n",
       "      <td>118.0500</td>\n",
       "      <td>118.13</td>\n",
       "      <td>4895506</td>\n",
       "      <td>NaN</td>\n",
       "      <td>322.58</td>\n",
       "      <td>329.58</td>\n",
       "      <td>321.6400</td>\n",
       "      <td>328.69</td>\n",
       "      <td>59224994</td>\n",
       "      <td>NaN</td>\n",
       "    </tr>\n",
       "    <tr>\n",
       "      <th>2020-09-28 00:00:00-04:00</th>\n",
       "      <td>118.18</td>\n",
       "      <td>118.22</td>\n",
       "      <td>118.1100</td>\n",
       "      <td>118.20</td>\n",
       "      <td>5318716</td>\n",
       "      <td>0.000593</td>\n",
       "      <td>333.22</td>\n",
       "      <td>334.96</td>\n",
       "      <td>332.1500</td>\n",
       "      <td>334.20</td>\n",
       "      <td>55126711</td>\n",
       "      <td>0.016764</td>\n",
       "    </tr>\n",
       "    <tr>\n",
       "      <th>2020-09-29 00:00:00-04:00</th>\n",
       "      <td>118.28</td>\n",
       "      <td>118.33</td>\n",
       "      <td>118.2100</td>\n",
       "      <td>118.23</td>\n",
       "      <td>3974292</td>\n",
       "      <td>0.000254</td>\n",
       "      <td>333.97</td>\n",
       "      <td>334.77</td>\n",
       "      <td>331.6209</td>\n",
       "      <td>332.39</td>\n",
       "      <td>40380416</td>\n",
       "      <td>-0.005416</td>\n",
       "    </tr>\n",
       "    <tr>\n",
       "      <th>2020-09-30 00:00:00-04:00</th>\n",
       "      <td>118.26</td>\n",
       "      <td>118.26</td>\n",
       "      <td>117.9516</td>\n",
       "      <td>118.07</td>\n",
       "      <td>5314447</td>\n",
       "      <td>-0.001353</td>\n",
       "      <td>333.09</td>\n",
       "      <td>338.29</td>\n",
       "      <td>332.8800</td>\n",
       "      <td>334.89</td>\n",
       "      <td>78401575</td>\n",
       "      <td>0.007521</td>\n",
       "    </tr>\n",
       "    <tr>\n",
       "      <th>2020-10-01 00:00:00-04:00</th>\n",
       "      <td>117.81</td>\n",
       "      <td>118.04</td>\n",
       "      <td>117.7500</td>\n",
       "      <td>117.99</td>\n",
       "      <td>9535086</td>\n",
       "      <td>-0.000678</td>\n",
       "      <td>337.69</td>\n",
       "      <td>338.74</td>\n",
       "      <td>335.0100</td>\n",
       "      <td>337.03</td>\n",
       "      <td>76998987</td>\n",
       "      <td>0.006390</td>\n",
       "    </tr>\n",
       "  </tbody>\n",
       "</table>\n",
       "</div>"
      ],
      "text/plain": [
       "                              AGG                                     \\\n",
       "                             open    high       low   close   volume   \n",
       "time                                                                   \n",
       "2020-09-25 00:00:00-04:00  118.12  118.17  118.0500  118.13  4895506   \n",
       "2020-09-28 00:00:00-04:00  118.18  118.22  118.1100  118.20  5318716   \n",
       "2020-09-29 00:00:00-04:00  118.28  118.33  118.2100  118.23  3974292   \n",
       "2020-09-30 00:00:00-04:00  118.26  118.26  117.9516  118.07  5314447   \n",
       "2020-10-01 00:00:00-04:00  117.81  118.04  117.7500  117.99  9535086   \n",
       "\n",
       "                                           SPY                            \\\n",
       "                          daily_return    open    high       low   close   \n",
       "time                                                                       \n",
       "2020-09-25 00:00:00-04:00          NaN  322.58  329.58  321.6400  328.69   \n",
       "2020-09-28 00:00:00-04:00     0.000593  333.22  334.96  332.1500  334.20   \n",
       "2020-09-29 00:00:00-04:00     0.000254  333.97  334.77  331.6209  332.39   \n",
       "2020-09-30 00:00:00-04:00    -0.001353  333.09  338.29  332.8800  334.89   \n",
       "2020-10-01 00:00:00-04:00    -0.000678  337.69  338.74  335.0100  337.03   \n",
       "\n",
       "                                                  \n",
       "                             volume daily_return  \n",
       "time                                              \n",
       "2020-09-25 00:00:00-04:00  59224994          NaN  \n",
       "2020-09-28 00:00:00-04:00  55126711     0.016764  \n",
       "2020-09-29 00:00:00-04:00  40380416    -0.005416  \n",
       "2020-09-30 00:00:00-04:00  78401575     0.007521  \n",
       "2020-10-01 00:00:00-04:00  76998987     0.006390  "
      ]
     },
     "execution_count": 17,
     "metadata": {},
     "output_type": "execute_result"
    }
   ],
   "source": [
    "# Printing the simulation input data\n",
    "MC_thirty_year.portfolio_data.head()"
   ]
  },
  {
   "cell_type": "code",
   "execution_count": 18,
   "metadata": {},
   "outputs": [
    {
     "name": "stdout",
     "output_type": "stream",
     "text": [
      "Running Monte Carlo simulation number 0.\n",
      "Running Monte Carlo simulation number 10.\n",
      "Running Monte Carlo simulation number 20.\n",
      "Running Monte Carlo simulation number 30.\n",
      "Running Monte Carlo simulation number 40.\n",
      "Running Monte Carlo simulation number 50.\n",
      "Running Monte Carlo simulation number 60.\n",
      "Running Monte Carlo simulation number 70.\n",
      "Running Monte Carlo simulation number 80.\n",
      "Running Monte Carlo simulation number 90.\n",
      "Running Monte Carlo simulation number 100.\n",
      "Running Monte Carlo simulation number 110.\n",
      "Running Monte Carlo simulation number 120.\n",
      "Running Monte Carlo simulation number 130.\n",
      "Running Monte Carlo simulation number 140.\n",
      "Running Monte Carlo simulation number 150.\n",
      "Running Monte Carlo simulation number 160.\n",
      "Running Monte Carlo simulation number 170.\n",
      "Running Monte Carlo simulation number 180.\n",
      "Running Monte Carlo simulation number 190.\n",
      "Running Monte Carlo simulation number 200.\n",
      "Running Monte Carlo simulation number 210.\n",
      "Running Monte Carlo simulation number 220.\n",
      "Running Monte Carlo simulation number 230.\n",
      "Running Monte Carlo simulation number 240.\n",
      "Running Monte Carlo simulation number 250.\n",
      "Running Monte Carlo simulation number 260.\n",
      "Running Monte Carlo simulation number 270.\n",
      "Running Monte Carlo simulation number 280.\n",
      "Running Monte Carlo simulation number 290.\n",
      "Running Monte Carlo simulation number 300.\n",
      "Running Monte Carlo simulation number 310.\n",
      "Running Monte Carlo simulation number 320.\n",
      "Running Monte Carlo simulation number 330.\n",
      "Running Monte Carlo simulation number 340.\n",
      "Running Monte Carlo simulation number 350.\n",
      "Running Monte Carlo simulation number 360.\n",
      "Running Monte Carlo simulation number 370.\n",
      "Running Monte Carlo simulation number 380.\n",
      "Running Monte Carlo simulation number 390.\n",
      "Running Monte Carlo simulation number 400.\n",
      "Running Monte Carlo simulation number 410.\n",
      "Running Monte Carlo simulation number 420.\n",
      "Running Monte Carlo simulation number 430.\n",
      "Running Monte Carlo simulation number 440.\n",
      "Running Monte Carlo simulation number 450.\n",
      "Running Monte Carlo simulation number 460.\n",
      "Running Monte Carlo simulation number 470.\n",
      "Running Monte Carlo simulation number 480.\n",
      "Running Monte Carlo simulation number 490.\n"
     ]
    },
    {
     "data": {
      "text/html": [
       "<div>\n",
       "<style scoped>\n",
       "    .dataframe tbody tr th:only-of-type {\n",
       "        vertical-align: middle;\n",
       "    }\n",
       "\n",
       "    .dataframe tbody tr th {\n",
       "        vertical-align: top;\n",
       "    }\n",
       "\n",
       "    .dataframe thead th {\n",
       "        text-align: right;\n",
       "    }\n",
       "</style>\n",
       "<table border=\"1\" class=\"dataframe\">\n",
       "  <thead>\n",
       "    <tr style=\"text-align: right;\">\n",
       "      <th></th>\n",
       "      <th>0</th>\n",
       "      <th>1</th>\n",
       "      <th>2</th>\n",
       "      <th>3</th>\n",
       "      <th>4</th>\n",
       "      <th>5</th>\n",
       "      <th>6</th>\n",
       "      <th>7</th>\n",
       "      <th>8</th>\n",
       "      <th>9</th>\n",
       "      <th>...</th>\n",
       "      <th>490</th>\n",
       "      <th>491</th>\n",
       "      <th>492</th>\n",
       "      <th>493</th>\n",
       "      <th>494</th>\n",
       "      <th>495</th>\n",
       "      <th>496</th>\n",
       "      <th>497</th>\n",
       "      <th>498</th>\n",
       "      <th>499</th>\n",
       "    </tr>\n",
       "  </thead>\n",
       "  <tbody>\n",
       "    <tr>\n",
       "      <th>0</th>\n",
       "      <td>1.000000</td>\n",
       "      <td>1.000000</td>\n",
       "      <td>1.000000</td>\n",
       "      <td>1.000000</td>\n",
       "      <td>1.000000</td>\n",
       "      <td>1.000000</td>\n",
       "      <td>1.000000</td>\n",
       "      <td>1.000000</td>\n",
       "      <td>1.000000</td>\n",
       "      <td>1.000000</td>\n",
       "      <td>...</td>\n",
       "      <td>1.000000</td>\n",
       "      <td>1.000000</td>\n",
       "      <td>1.000000</td>\n",
       "      <td>1.000000</td>\n",
       "      <td>1.000000</td>\n",
       "      <td>1.000000</td>\n",
       "      <td>1.000000</td>\n",
       "      <td>1.000000</td>\n",
       "      <td>1.000000</td>\n",
       "      <td>1.000000</td>\n",
       "    </tr>\n",
       "    <tr>\n",
       "      <th>1</th>\n",
       "      <td>0.998151</td>\n",
       "      <td>0.998273</td>\n",
       "      <td>1.006803</td>\n",
       "      <td>0.999700</td>\n",
       "      <td>1.005932</td>\n",
       "      <td>1.004581</td>\n",
       "      <td>1.002866</td>\n",
       "      <td>0.999897</td>\n",
       "      <td>0.996378</td>\n",
       "      <td>1.008461</td>\n",
       "      <td>...</td>\n",
       "      <td>1.005232</td>\n",
       "      <td>0.999505</td>\n",
       "      <td>1.004690</td>\n",
       "      <td>0.994868</td>\n",
       "      <td>0.998517</td>\n",
       "      <td>1.004245</td>\n",
       "      <td>1.001388</td>\n",
       "      <td>0.994825</td>\n",
       "      <td>0.997739</td>\n",
       "      <td>0.999460</td>\n",
       "    </tr>\n",
       "    <tr>\n",
       "      <th>2</th>\n",
       "      <td>0.999076</td>\n",
       "      <td>0.997673</td>\n",
       "      <td>1.016564</td>\n",
       "      <td>1.007434</td>\n",
       "      <td>1.009411</td>\n",
       "      <td>1.011605</td>\n",
       "      <td>1.004126</td>\n",
       "      <td>0.999084</td>\n",
       "      <td>1.002617</td>\n",
       "      <td>1.015504</td>\n",
       "      <td>...</td>\n",
       "      <td>1.008296</td>\n",
       "      <td>1.000827</td>\n",
       "      <td>1.011657</td>\n",
       "      <td>0.995923</td>\n",
       "      <td>0.998215</td>\n",
       "      <td>1.010625</td>\n",
       "      <td>1.006165</td>\n",
       "      <td>0.997490</td>\n",
       "      <td>0.998904</td>\n",
       "      <td>0.999518</td>\n",
       "    </tr>\n",
       "    <tr>\n",
       "      <th>3</th>\n",
       "      <td>1.006915</td>\n",
       "      <td>0.989517</td>\n",
       "      <td>1.019946</td>\n",
       "      <td>1.008026</td>\n",
       "      <td>1.004801</td>\n",
       "      <td>1.014924</td>\n",
       "      <td>1.004830</td>\n",
       "      <td>1.005298</td>\n",
       "      <td>0.997779</td>\n",
       "      <td>1.012841</td>\n",
       "      <td>...</td>\n",
       "      <td>1.005556</td>\n",
       "      <td>1.002128</td>\n",
       "      <td>1.003394</td>\n",
       "      <td>0.995689</td>\n",
       "      <td>0.994208</td>\n",
       "      <td>1.010547</td>\n",
       "      <td>1.011617</td>\n",
       "      <td>0.999129</td>\n",
       "      <td>1.002381</td>\n",
       "      <td>0.991191</td>\n",
       "    </tr>\n",
       "    <tr>\n",
       "      <th>4</th>\n",
       "      <td>1.008156</td>\n",
       "      <td>0.992515</td>\n",
       "      <td>1.021612</td>\n",
       "      <td>1.005604</td>\n",
       "      <td>1.001715</td>\n",
       "      <td>1.008422</td>\n",
       "      <td>1.004794</td>\n",
       "      <td>1.004572</td>\n",
       "      <td>1.000301</td>\n",
       "      <td>1.011738</td>\n",
       "      <td>...</td>\n",
       "      <td>1.002976</td>\n",
       "      <td>0.998589</td>\n",
       "      <td>1.001226</td>\n",
       "      <td>0.997242</td>\n",
       "      <td>0.995194</td>\n",
       "      <td>1.013743</td>\n",
       "      <td>1.010306</td>\n",
       "      <td>0.997356</td>\n",
       "      <td>0.999856</td>\n",
       "      <td>0.996688</td>\n",
       "    </tr>\n",
       "    <tr>\n",
       "      <th>...</th>\n",
       "      <td>...</td>\n",
       "      <td>...</td>\n",
       "      <td>...</td>\n",
       "      <td>...</td>\n",
       "      <td>...</td>\n",
       "      <td>...</td>\n",
       "      <td>...</td>\n",
       "      <td>...</td>\n",
       "      <td>...</td>\n",
       "      <td>...</td>\n",
       "      <td>...</td>\n",
       "      <td>...</td>\n",
       "      <td>...</td>\n",
       "      <td>...</td>\n",
       "      <td>...</td>\n",
       "      <td>...</td>\n",
       "      <td>...</td>\n",
       "      <td>...</td>\n",
       "      <td>...</td>\n",
       "      <td>...</td>\n",
       "      <td>...</td>\n",
       "    </tr>\n",
       "    <tr>\n",
       "      <th>7556</th>\n",
       "      <td>55.758177</td>\n",
       "      <td>85.741488</td>\n",
       "      <td>62.420125</td>\n",
       "      <td>98.975826</td>\n",
       "      <td>92.474270</td>\n",
       "      <td>83.156583</td>\n",
       "      <td>74.764298</td>\n",
       "      <td>122.523413</td>\n",
       "      <td>125.788423</td>\n",
       "      <td>148.400950</td>\n",
       "      <td>...</td>\n",
       "      <td>79.813421</td>\n",
       "      <td>165.368649</td>\n",
       "      <td>132.367031</td>\n",
       "      <td>104.684996</td>\n",
       "      <td>193.949342</td>\n",
       "      <td>105.232350</td>\n",
       "      <td>209.136598</td>\n",
       "      <td>82.303196</td>\n",
       "      <td>74.713159</td>\n",
       "      <td>158.888591</td>\n",
       "    </tr>\n",
       "    <tr>\n",
       "      <th>7557</th>\n",
       "      <td>56.240392</td>\n",
       "      <td>85.827198</td>\n",
       "      <td>62.208402</td>\n",
       "      <td>99.775293</td>\n",
       "      <td>93.366924</td>\n",
       "      <td>82.616149</td>\n",
       "      <td>74.868101</td>\n",
       "      <td>123.002670</td>\n",
       "      <td>125.608596</td>\n",
       "      <td>149.564997</td>\n",
       "      <td>...</td>\n",
       "      <td>80.488140</td>\n",
       "      <td>165.307034</td>\n",
       "      <td>132.315905</td>\n",
       "      <td>104.933311</td>\n",
       "      <td>194.976805</td>\n",
       "      <td>105.395183</td>\n",
       "      <td>208.621536</td>\n",
       "      <td>82.634318</td>\n",
       "      <td>74.930829</td>\n",
       "      <td>158.732699</td>\n",
       "    </tr>\n",
       "    <tr>\n",
       "      <th>7558</th>\n",
       "      <td>56.186850</td>\n",
       "      <td>85.903830</td>\n",
       "      <td>62.087343</td>\n",
       "      <td>100.393083</td>\n",
       "      <td>93.510384</td>\n",
       "      <td>83.074632</td>\n",
       "      <td>74.950308</td>\n",
       "      <td>123.822473</td>\n",
       "      <td>125.804434</td>\n",
       "      <td>149.909145</td>\n",
       "      <td>...</td>\n",
       "      <td>80.754939</td>\n",
       "      <td>165.015258</td>\n",
       "      <td>133.354354</td>\n",
       "      <td>104.583531</td>\n",
       "      <td>194.711387</td>\n",
       "      <td>105.533731</td>\n",
       "      <td>208.888597</td>\n",
       "      <td>82.873322</td>\n",
       "      <td>74.774062</td>\n",
       "      <td>160.304624</td>\n",
       "    </tr>\n",
       "    <tr>\n",
       "      <th>7559</th>\n",
       "      <td>56.572425</td>\n",
       "      <td>85.693256</td>\n",
       "      <td>62.294774</td>\n",
       "      <td>99.839316</td>\n",
       "      <td>93.079587</td>\n",
       "      <td>82.890511</td>\n",
       "      <td>74.562987</td>\n",
       "      <td>123.628378</td>\n",
       "      <td>125.571353</td>\n",
       "      <td>150.373999</td>\n",
       "      <td>...</td>\n",
       "      <td>80.740254</td>\n",
       "      <td>165.946937</td>\n",
       "      <td>133.604587</td>\n",
       "      <td>104.400112</td>\n",
       "      <td>193.835705</td>\n",
       "      <td>105.297951</td>\n",
       "      <td>210.473088</td>\n",
       "      <td>83.852556</td>\n",
       "      <td>74.628517</td>\n",
       "      <td>160.011821</td>\n",
       "    </tr>\n",
       "    <tr>\n",
       "      <th>7560</th>\n",
       "      <td>56.387407</td>\n",
       "      <td>86.101795</td>\n",
       "      <td>62.642857</td>\n",
       "      <td>99.700343</td>\n",
       "      <td>93.101890</td>\n",
       "      <td>82.293957</td>\n",
       "      <td>74.384703</td>\n",
       "      <td>123.881687</td>\n",
       "      <td>125.248706</td>\n",
       "      <td>150.842304</td>\n",
       "      <td>...</td>\n",
       "      <td>81.057997</td>\n",
       "      <td>164.848359</td>\n",
       "      <td>133.637934</td>\n",
       "      <td>104.545383</td>\n",
       "      <td>194.048621</td>\n",
       "      <td>104.765804</td>\n",
       "      <td>211.781268</td>\n",
       "      <td>84.094274</td>\n",
       "      <td>74.762807</td>\n",
       "      <td>158.805231</td>\n",
       "    </tr>\n",
       "  </tbody>\n",
       "</table>\n",
       "<p>7561 rows × 500 columns</p>\n",
       "</div>"
      ],
      "text/plain": [
       "            0          1          2           3          4          5    \\\n",
       "0      1.000000   1.000000   1.000000    1.000000   1.000000   1.000000   \n",
       "1      0.998151   0.998273   1.006803    0.999700   1.005932   1.004581   \n",
       "2      0.999076   0.997673   1.016564    1.007434   1.009411   1.011605   \n",
       "3      1.006915   0.989517   1.019946    1.008026   1.004801   1.014924   \n",
       "4      1.008156   0.992515   1.021612    1.005604   1.001715   1.008422   \n",
       "...         ...        ...        ...         ...        ...        ...   \n",
       "7556  55.758177  85.741488  62.420125   98.975826  92.474270  83.156583   \n",
       "7557  56.240392  85.827198  62.208402   99.775293  93.366924  82.616149   \n",
       "7558  56.186850  85.903830  62.087343  100.393083  93.510384  83.074632   \n",
       "7559  56.572425  85.693256  62.294774   99.839316  93.079587  82.890511   \n",
       "7560  56.387407  86.101795  62.642857   99.700343  93.101890  82.293957   \n",
       "\n",
       "            6           7           8           9    ...        490  \\\n",
       "0      1.000000    1.000000    1.000000    1.000000  ...   1.000000   \n",
       "1      1.002866    0.999897    0.996378    1.008461  ...   1.005232   \n",
       "2      1.004126    0.999084    1.002617    1.015504  ...   1.008296   \n",
       "3      1.004830    1.005298    0.997779    1.012841  ...   1.005556   \n",
       "4      1.004794    1.004572    1.000301    1.011738  ...   1.002976   \n",
       "...         ...         ...         ...         ...  ...        ...   \n",
       "7556  74.764298  122.523413  125.788423  148.400950  ...  79.813421   \n",
       "7557  74.868101  123.002670  125.608596  149.564997  ...  80.488140   \n",
       "7558  74.950308  123.822473  125.804434  149.909145  ...  80.754939   \n",
       "7559  74.562987  123.628378  125.571353  150.373999  ...  80.740254   \n",
       "7560  74.384703  123.881687  125.248706  150.842304  ...  81.057997   \n",
       "\n",
       "             491         492         493         494         495         496  \\\n",
       "0       1.000000    1.000000    1.000000    1.000000    1.000000    1.000000   \n",
       "1       0.999505    1.004690    0.994868    0.998517    1.004245    1.001388   \n",
       "2       1.000827    1.011657    0.995923    0.998215    1.010625    1.006165   \n",
       "3       1.002128    1.003394    0.995689    0.994208    1.010547    1.011617   \n",
       "4       0.998589    1.001226    0.997242    0.995194    1.013743    1.010306   \n",
       "...          ...         ...         ...         ...         ...         ...   \n",
       "7556  165.368649  132.367031  104.684996  193.949342  105.232350  209.136598   \n",
       "7557  165.307034  132.315905  104.933311  194.976805  105.395183  208.621536   \n",
       "7558  165.015258  133.354354  104.583531  194.711387  105.533731  208.888597   \n",
       "7559  165.946937  133.604587  104.400112  193.835705  105.297951  210.473088   \n",
       "7560  164.848359  133.637934  104.545383  194.048621  104.765804  211.781268   \n",
       "\n",
       "            497        498         499  \n",
       "0      1.000000   1.000000    1.000000  \n",
       "1      0.994825   0.997739    0.999460  \n",
       "2      0.997490   0.998904    0.999518  \n",
       "3      0.999129   1.002381    0.991191  \n",
       "4      0.997356   0.999856    0.996688  \n",
       "...         ...        ...         ...  \n",
       "7556  82.303196  74.713159  158.888591  \n",
       "7557  82.634318  74.930829  158.732699  \n",
       "7558  82.873322  74.774062  160.304624  \n",
       "7559  83.852556  74.628517  160.011821  \n",
       "7560  84.094274  74.762807  158.805231  \n",
       "\n",
       "[7561 rows x 500 columns]"
      ]
     },
     "execution_count": 18,
     "metadata": {},
     "output_type": "execute_result"
    }
   ],
   "source": [
    "# Running a Monte Carlo simulation to forecast 30 years cumulative returns\n",
    "MC_thirty_year.calc_cumulative_return()"
   ]
  },
  {
   "cell_type": "code",
   "execution_count": 19,
   "metadata": {},
   "outputs": [
    {
     "data": {
      "image/png": "[encoded data removed]",
      "text/plain": [
       "<Figure size 432x288 with 1 Axes>"
      ]
     },
     "metadata": {
      "needs_background": "light"
     },
     "output_type": "display_data"
    }
   ],
   "source": [
    "# Plot simulation outcomes\n",
    "line_plot = MC_thirty_year.plot_simulation()\n",
    "\n",
    "line_plot.get_figure().savefig(\"MC_thirty_year_sim_plot.png\", bbox_inches = \"tight\")"
   ]
  },
  {
   "cell_type": "code",
   "execution_count": 20,
   "metadata": {},
   "outputs": [
    {
     "data": {
      "image/png": "[encoded data removed]",
      "text/plain": [
       "<Figure size 432x288 with 1 Axes>"
      ]
     },
     "metadata": {
      "needs_background": "light"
     },
     "output_type": "display_data"
    }
   ],
   "source": [
    "# Plot probability distribution and confidence intervals\n",
    "dist_plot = MC_thirty_year.plot_distribution()\n",
    "\n",
    "dist_plot.get_figure().savefig('MC_thirtyyear_dist_plot.png', bbox_inches = 'tight')"
   ]
  },
  {
   "cell_type": "markdown",
   "metadata": {},
   "source": [
    "### Retirement Analysis"
   ]
  },
  {
   "cell_type": "code",
   "execution_count": 21,
   "metadata": {},
   "outputs": [
    {
     "name": "stdout",
     "output_type": "stream",
     "text": [
      "count           500.000000\n",
      "mean            109.375727\n",
      "std              41.384316\n",
      "min              26.843311\n",
      "25%              80.739566\n",
      "50%             101.250479\n",
      "75%             132.358561\n",
      "max             281.435952\n",
      "95% CI Lower     49.061724\n",
      "95% CI Upper    212.808026\n",
      "Name: 7560, dtype: float64\n"
     ]
    }
   ],
   "source": [
    "# Fetch summary statistics from the Monte Carlo simulation results\n",
    "tbl = MC_thirty_year.summarize_cumulative_return()\n",
    "\n",
    "# Print summary statistics\n",
    "print(tbl)"
   ]
  },
  {
   "cell_type": "markdown",
   "metadata": {},
   "source": [
    "### Calculate the expected portfolio return at the 95% lower and upper confidence intervals based on a `$20,000` initial investment."
   ]
  },
  {
   "cell_type": "code",
   "execution_count": 22,
   "metadata": {},
   "outputs": [
    {
     "name": "stdout",
     "output_type": "stream",
     "text": [
      "There is a 95% chance that an initial investment of $20000 in the portfolio over the next 30 years will end within in the range of $981234.47 and $4256160.52\n"
     ]
    }
   ],
   "source": [
    "# Set initial investment\n",
    "initial_investment = 20000\n",
    "\n",
    "# Use the lower and upper `95%` confidence intervals to calculate the range of the possible outcomes of our $20,000\n",
    "\n",
    "ci_lower = round(tbl[8]*20000,2)\n",
    "ci_upper = round(tbl[9]*20000,2)\n",
    "\n",
    "# Print results\n",
    "print(f\"There is a 95% chance that an initial investment of ${initial_investment} in the portfolio\"\n",
    "      f\" over the next 30 years will end within in the range of\"\n",
    "      f\" ${ci_lower} and ${ci_upper}\")"
   ]
  },
  {
   "cell_type": "markdown",
   "metadata": {},
   "source": [
    "### Calculate the expected portfolio return at the `95%` lower and upper confidence intervals based on a `50%` increase in the initial investment."
   ]
  },
  {
   "cell_type": "code",
   "execution_count": 23,
   "metadata": {},
   "outputs": [
    {
     "name": "stdout",
     "output_type": "stream",
     "text": [
      "There is a 95% chance that an initial investment of $30000.0 in the portfolio over the next 30 years will end within in the range of $1471851.71 and $6384240.78\n"
     ]
    }
   ],
   "source": [
    "# Set initial investment\n",
    "initial_investment = 20000 * 1.5\n",
    "\n",
    "# Use the lower and upper `95%` confidence intervals to calculate the range of the possible outcomes of our $30,000\n",
    "ci_lower = round(tbl[8]*initial_investment,2)\n",
    "ci_upper = round(tbl[9]*initial_investment,2)\n",
    "\n",
    "# Print results\n",
    "print(f\"There is a 95% chance that an initial investment of ${initial_investment} in the portfolio\"\n",
    "      f\" over the next 30 years will end within in the range of\"\n",
    "      f\" ${ci_lower} and ${ci_upper}\")"
   ]
  },
  {
   "cell_type": "markdown",
   "metadata": {},
   "source": [
    "## Optional Challenge - Early Retirement\n",
    "\n",
    "\n",
    "### Five Years Retirement Option"
   ]
  },
  {
   "cell_type": "code",
   "execution_count": 24,
   "metadata": {},
   "outputs": [],
   "source": [
    "# Configuring a Monte Carlo simulation to forecast 5 years cumulative returns\n",
    "# YOUR CODE HERE!"
   ]
  },
  {
   "cell_type": "code",
   "execution_count": 25,
   "metadata": {},
   "outputs": [],
   "source": [
    "# Running a Monte Carlo simulation to forecast 5 years cumulative returns\n",
    "# YOUR CODE HERE!"
   ]
  },
  {
   "cell_type": "code",
   "execution_count": 26,
   "metadata": {},
   "outputs": [],
   "source": [
    "# Plot simulation outcomes\n",
    "# YOUR CODE HERE!"
   ]
  },
  {
   "cell_type": "code",
   "execution_count": 27,
   "metadata": {},
   "outputs": [],
   "source": [
    "# Plot probability distribution and confidence intervals\n",
    "# YOUR CODE HERE!"
   ]
  },
  {
   "cell_type": "code",
   "execution_count": 28,
   "metadata": {},
   "outputs": [],
   "source": [
    "# Fetch summary statistics from the Monte Carlo simulation results\n",
    "# YOUR CODE HERE!\n",
    "\n",
    "# Print summary statistics\n",
    "# YOUR CODE HERE!"
   ]
  },
  {
   "cell_type": "code",
   "execution_count": 29,
   "metadata": {},
   "outputs": [
    {
     "ename": "NameError",
     "evalue": "name 'ci_lower_five' is not defined",
     "output_type": "error",
     "traceback": [
      "\u001b[1;31m---------------------------------------------------------------------------\u001b[0m",
      "\u001b[1;31mNameError\u001b[0m                                 Traceback (most recent call last)",
      "\u001b[1;32m<ipython-input-29-d56b774f48d0>\u001b[0m in \u001b[0;36m<module>\u001b[1;34m\u001b[0m\n\u001b[0;32m      6\u001b[0m \u001b[1;33m\u001b[0m\u001b[0m\n\u001b[0;32m      7\u001b[0m \u001b[1;31m# Print results\u001b[0m\u001b[1;33m\u001b[0m\u001b[1;33m\u001b[0m\u001b[1;33m\u001b[0m\u001b[0m\n\u001b[1;32m----> 8\u001b[1;33m print(f\"There is a 95% chance that an initial investment of ${initial_investment} in the portfolio\"\n\u001b[0m\u001b[0;32m      9\u001b[0m       \u001b[1;34mf\" over the next 5 years will end within in the range of\"\u001b[0m\u001b[1;33m\u001b[0m\u001b[1;33m\u001b[0m\u001b[0m\n\u001b[0;32m     10\u001b[0m       f\" ${ci_lower_five} and ${ci_upper_five}\")\n",
      "\u001b[1;31mNameError\u001b[0m: name 'ci_lower_five' is not defined"
     ]
    }
   ],
   "source": [
    "# Set initial investment\n",
    "# YOUR CODE HERE!\n",
    "\n",
    "# Use the lower and upper `95%` confidence intervals to calculate the range of the possible outcomes of our $60,000\n",
    "# YOUR CODE HERE!\n",
    "\n",
    "# Print results\n",
    "print(f\"There is a 95% chance that an initial investment of ${initial_investment} in the portfolio\"\n",
    "      f\" over the next 5 years will end within in the range of\"\n",
    "      f\" ${ci_lower_five} and ${ci_upper_five}\")"
   ]
  },
  {
   "cell_type": "markdown",
   "metadata": {},
   "source": [
    "### Ten Years Retirement Option"
   ]
  },
  {
   "cell_type": "code",
   "execution_count": null,
   "metadata": {},
   "outputs": [],
   "source": [
    "# Configuring a Monte Carlo simulation to forecast 10 years cumulative returns\n",
    "# YOUR CODE HERE!"
   ]
  },
  {
   "cell_type": "code",
   "execution_count": null,
   "metadata": {},
   "outputs": [],
   "source": [
    "# Running a Monte Carlo simulation to forecast 10 years cumulative returns\n",
    "# YOUR CODE HERE!"
   ]
  },
  {
   "cell_type": "code",
   "execution_count": null,
   "metadata": {},
   "outputs": [],
   "source": [
    "# Plot simulation outcomes\n",
    "# YOUR CODE HERE!"
   ]
  },
  {
   "cell_type": "code",
   "execution_count": null,
   "metadata": {},
   "outputs": [],
   "source": [
    "# Plot probability distribution and confidence intervals\n",
    "# YOUR CODE HERE!"
   ]
  },
  {
   "cell_type": "code",
   "execution_count": null,
   "metadata": {},
   "outputs": [],
   "source": [
    "# Fetch summary statistics from the Monte Carlo simulation results\n",
    "# YOUR CODE HERE!\n",
    "\n",
    "# Print summary statistics\n",
    "# YOUR CODE HERE!"
   ]
  },
  {
   "cell_type": "code",
   "execution_count": null,
   "metadata": {},
   "outputs": [],
   "source": [
    "# Set initial investment\n",
    "# YOUR CODE HERE!\n",
    "\n",
    "# Use the lower and upper `95%` confidence intervals to calculate the range of the possible outcomes of our $60,000\n",
    "# YOUR CODE HERE!\n",
    "\n",
    "# Print results\n",
    "print(f\"There is a 95% chance that an initial investment of ${initial_investment} in the portfolio\"\n",
    "      f\" over the next 10 years will end within in the range of\"\n",
    "      f\" ${ci_lower_ten} and ${ci_upper_ten}\")"
   ]
  }
 ],
 "metadata": {
  "kernelspec": {
   "display_name": "Python 3",
   "language": "python",
   "name": "python3"
  },
  "language_info": {
   "codemirror_mode": {
    "name": "ipython",
    "version": 3
   },
   "file_extension": ".py",
   "mimetype": "text/x-python",
   "name": "python",
   "nbconvert_exporter": "python",
   "pygments_lexer": "ipython3",
   "version": "3.7.9"
  }
 },
 "nbformat": 4,
 "nbformat_minor": 4
}
